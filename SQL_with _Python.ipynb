{
 "cells": [
  {
   "cell_type": "code",
   "execution_count": 2,
   "id": "dbedddf8",
   "metadata": {},
   "outputs": [],
   "source": [
    "import sqlite3"
   ]
  },
  {
   "cell_type": "code",
   "execution_count": 3,
   "id": "f8fd5d29",
   "metadata": {},
   "outputs": [],
   "source": [
    "### create a database in RAM\n",
    "\n",
    "db=sqlite3.connect(':memory:')           "
   ]
  },
  {
   "cell_type": "code",
   "execution_count": 4,
   "id": "73dd4c35",
   "metadata": {},
   "outputs": [],
   "source": [
    "### Get a cursor object\n",
    "\n",
    "cursor=db.cursor()                    "
   ]
  },
  {
   "cell_type": "code",
   "execution_count": 5,
   "id": "2fba4846",
   "metadata": {},
   "outputs": [
    {
     "data": {
      "text/plain": [
       "<sqlite3.Cursor at 0x2561a9adbc0>"
      ]
     },
     "execution_count": 5,
     "metadata": {},
     "output_type": "execute_result"
    }
   ],
   "source": [
    "##create a table\n",
    "\n",
    "cursor.execute('''\n",
    "create table Ages(\n",
    "name varchar(128),\n",
    "age int)''')"
   ]
  },
  {
   "cell_type": "code",
   "execution_count": 6,
   "id": "7e18eda4",
   "metadata": {},
   "outputs": [
    {
     "data": {
      "text/plain": [
       "<sqlite3.Cursor at 0x2561a9adbc0>"
      ]
     },
     "execution_count": 6,
     "metadata": {},
     "output_type": "execute_result"
    }
   ],
   "source": [
    "cursor.execute(\"Delete from Ages\")"
   ]
  },
  {
   "cell_type": "code",
   "execution_count": 7,
   "id": "2be06929",
   "metadata": {},
   "outputs": [
    {
     "data": {
      "text/plain": [
       "<sqlite3.Cursor at 0x2561a9adbc0>"
      ]
     },
     "execution_count": 7,
     "metadata": {},
     "output_type": "execute_result"
    }
   ],
   "source": [
    "cursor.execute('''Insert into Ages values ('Mara',28)''')\n",
    "cursor.execute('''Insert into Ages values('Otto',33)''' )\n",
    "cursor.execute('''Insert into Ages values('Fyn',31)''')\n",
    "cursor.execute('''Insert into Ages values('Neshawn',17)''' )               \n",
    "               \n"
   ]
  },
  {
   "cell_type": "code",
   "execution_count": 8,
   "id": "56b7c634",
   "metadata": {},
   "outputs": [
    {
     "data": {
      "text/plain": [
       "<sqlite3.Cursor at 0x2561a9adbc0>"
      ]
     },
     "execution_count": 8,
     "metadata": {},
     "output_type": "execute_result"
    }
   ],
   "source": [
    "cursor.execute('''select * from Ages''')"
   ]
  },
  {
   "cell_type": "code",
   "execution_count": 9,
   "id": "70a9fd66",
   "metadata": {},
   "outputs": [
    {
     "name": "stdout",
     "output_type": "stream",
     "text": [
      "('Mara', 28)\n",
      "('Otto', 33)\n",
      "('Fyn', 31)\n",
      "('Neshawn', 17)\n"
     ]
    }
   ],
   "source": [
    "rows=cursor.fetchall()\n",
    "\n",
    "for row in rows:\n",
    "    print(row)"
   ]
  },
  {
   "cell_type": "code",
   "execution_count": 10,
   "id": "a35c6e9e",
   "metadata": {},
   "outputs": [
    {
     "data": {
      "text/plain": [
       "<sqlite3.Cursor at 0x2561a9adbc0>"
      ]
     },
     "execution_count": 10,
     "metadata": {},
     "output_type": "execute_result"
    }
   ],
   "source": [
    "cursor.execute('''SELECT hex(name || age) AS X FROM Ages ORDER BY X''')"
   ]
  },
  {
   "cell_type": "code",
   "execution_count": 11,
   "id": "48d90a33",
   "metadata": {},
   "outputs": [
    {
     "name": "stdout",
     "output_type": "stream",
     "text": [
      "('46796E3331',)\n",
      "('4D6172613238',)\n",
      "('4E65736861776E3137',)\n",
      "('4F74746F3333',)\n"
     ]
    }
   ],
   "source": [
    "rows=cursor.fetchall()\n",
    "\n",
    "for row in rows:\n",
    "    print(row)"
   ]
  },
  {
   "cell_type": "code",
   "execution_count": 12,
   "id": "4333eb20",
   "metadata": {},
   "outputs": [],
   "source": [
    "###select the row whose name is Fyn"
   ]
  },
  {
   "cell_type": "code",
   "execution_count": 13,
   "id": "117a2957",
   "metadata": {},
   "outputs": [
    {
     "data": {
      "text/plain": [
       "<sqlite3.Cursor at 0x2561a9adbc0>"
      ]
     },
     "execution_count": 13,
     "metadata": {},
     "output_type": "execute_result"
    }
   ],
   "source": [
    "cursor.execute('''select * from Ages where name=\"Fyn\"''')"
   ]
  },
  {
   "cell_type": "code",
   "execution_count": 14,
   "id": "eeb5b92b",
   "metadata": {},
   "outputs": [],
   "source": [
    "rows=cursor.fetchall()"
   ]
  },
  {
   "cell_type": "code",
   "execution_count": 15,
   "id": "714b91ca",
   "metadata": {},
   "outputs": [
    {
     "name": "stdout",
     "output_type": "stream",
     "text": [
      "('Fyn', 31)\n"
     ]
    }
   ],
   "source": [
    "for row in rows:\n",
    "    print(row)"
   ]
  },
  {
   "cell_type": "code",
   "execution_count": 16,
   "id": "d5c764c1",
   "metadata": {},
   "outputs": [],
   "source": [
    "### update the age of a user named \"Mara\" to 30 in the \"Ages\" table"
   ]
  },
  {
   "cell_type": "code",
   "execution_count": 17,
   "id": "b2f57e76",
   "metadata": {},
   "outputs": [
    {
     "data": {
      "text/plain": [
       "<sqlite3.Cursor at 0x2561a9adbc0>"
      ]
     },
     "execution_count": 17,
     "metadata": {},
     "output_type": "execute_result"
    }
   ],
   "source": [
    "cursor.execute('''update Ages set age=30 where  name=\"Mara\" ''')"
   ]
  },
  {
   "cell_type": "code",
   "execution_count": 18,
   "id": "f44fa638",
   "metadata": {},
   "outputs": [
    {
     "data": {
      "text/plain": [
       "<sqlite3.Cursor at 0x2561a9adbc0>"
      ]
     },
     "execution_count": 18,
     "metadata": {},
     "output_type": "execute_result"
    }
   ],
   "source": [
    "cursor.execute('''select * from Ages''')"
   ]
  },
  {
   "cell_type": "code",
   "execution_count": 19,
   "id": "8427e293",
   "metadata": {},
   "outputs": [],
   "source": [
    "rows=cursor.fetchall()"
   ]
  },
  {
   "cell_type": "code",
   "execution_count": 20,
   "id": "4a14b637",
   "metadata": {},
   "outputs": [
    {
     "name": "stdout",
     "output_type": "stream",
     "text": [
      "('Mara', 30)\n",
      "('Otto', 33)\n",
      "('Fyn', 31)\n",
      "('Neshawn', 17)\n"
     ]
    }
   ],
   "source": [
    "for row in rows:\n",
    "    print(row)"
   ]
  },
  {
   "cell_type": "code",
   "execution_count": 21,
   "id": "879c6736",
   "metadata": {},
   "outputs": [],
   "source": [
    "### delete the row of the user named \"Otto\" from the \"Ages\" table"
   ]
  },
  {
   "cell_type": "code",
   "execution_count": 22,
   "id": "a05ef6e7",
   "metadata": {},
   "outputs": [
    {
     "data": {
      "text/plain": [
       "<sqlite3.Cursor at 0x2561a9adbc0>"
      ]
     },
     "execution_count": 22,
     "metadata": {},
     "output_type": "execute_result"
    }
   ],
   "source": [
    "cursor.execute('''delete from Ages  where name=\"Otto\" ''')"
   ]
  },
  {
   "cell_type": "code",
   "execution_count": 23,
   "id": "e7671f05",
   "metadata": {},
   "outputs": [
    {
     "data": {
      "text/plain": [
       "<sqlite3.Cursor at 0x2561a9adbc0>"
      ]
     },
     "execution_count": 23,
     "metadata": {},
     "output_type": "execute_result"
    }
   ],
   "source": [
    "cursor.execute('''PRAGMA table_info(Ages);''')          "
   ]
  },
  {
   "cell_type": "code",
   "execution_count": 24,
   "id": "23061bb9",
   "metadata": {},
   "outputs": [],
   "source": [
    "rows=cursor.fetchall()"
   ]
  },
  {
   "cell_type": "code",
   "execution_count": 25,
   "id": "69d230ba",
   "metadata": {},
   "outputs": [
    {
     "name": "stdout",
     "output_type": "stream",
     "text": [
      "(0, 'name', 'varchar(128)', 0, None, 0)\n",
      "(1, 'age', 'INT', 0, None, 0)\n"
     ]
    }
   ],
   "source": [
    "for row in rows:\n",
    "    print(row)"
   ]
  },
  {
   "cell_type": "code",
   "execution_count": 26,
   "id": "c7654f9c",
   "metadata": {},
   "outputs": [
    {
     "data": {
      "text/plain": [
       "<sqlite3.Cursor at 0x2561a9adbc0>"
      ]
     },
     "execution_count": 26,
     "metadata": {},
     "output_type": "execute_result"
    }
   ],
   "source": [
    "###count of total users in the \"Ages\" table\n",
    "cursor.execute('''select count(*) from Ages''')"
   ]
  },
  {
   "cell_type": "code",
   "execution_count": 27,
   "id": "2b72f0cc",
   "metadata": {},
   "outputs": [
    {
     "name": "stdout",
     "output_type": "stream",
     "text": [
      "(3,)\n"
     ]
    }
   ],
   "source": [
    "rows=cursor.fetchall()\n",
    "for row in rows:\n",
    "    print(row)"
   ]
  },
  {
   "cell_type": "code",
   "execution_count": 28,
   "id": "1d7e22ad",
   "metadata": {},
   "outputs": [
    {
     "data": {
      "text/plain": [
       "<sqlite3.Cursor at 0x2561a9adbc0>"
      ]
     },
     "execution_count": 28,
     "metadata": {},
     "output_type": "execute_result"
    }
   ],
   "source": [
    "cursor.execute('''alter table Ages add column email varchar(255);''')"
   ]
  },
  {
   "cell_type": "code",
   "execution_count": 29,
   "id": "917a2e0a",
   "metadata": {},
   "outputs": [
    {
     "data": {
      "text/plain": [
       "<sqlite3.Cursor at 0x2561a9adbc0>"
      ]
     },
     "execution_count": 29,
     "metadata": {},
     "output_type": "execute_result"
    }
   ],
   "source": [
    "cursor.execute('''select * from Ages''')"
   ]
  },
  {
   "cell_type": "code",
   "execution_count": 30,
   "id": "4bd4bfee",
   "metadata": {},
   "outputs": [],
   "source": [
    "rows=cursor.fetchall()"
   ]
  },
  {
   "cell_type": "code",
   "execution_count": 31,
   "id": "8af51134",
   "metadata": {},
   "outputs": [
    {
     "name": "stdout",
     "output_type": "stream",
     "text": [
      "('Mara', 30, None)\n",
      "('Fyn', 31, None)\n",
      "('Neshawn', 17, None)\n"
     ]
    }
   ],
   "source": [
    "for row in rows:\n",
    "    print(row)"
   ]
  },
  {
   "cell_type": "code",
   "execution_count": 32,
   "id": "b4488780",
   "metadata": {},
   "outputs": [
    {
     "data": {
      "text/plain": [
       "<sqlite3.Cursor at 0x2561a9adbc0>"
      ]
     },
     "execution_count": 32,
     "metadata": {},
     "output_type": "execute_result"
    }
   ],
   "source": [
    "cursor.execute('''update Ages set Email=\"fyn31@gmail.com\" where name=\"Fyn\"''')"
   ]
  },
  {
   "cell_type": "code",
   "execution_count": 33,
   "id": "9ee0c7f5",
   "metadata": {},
   "outputs": [
    {
     "data": {
      "text/plain": [
       "<sqlite3.Cursor at 0x2561a9adbc0>"
      ]
     },
     "execution_count": 33,
     "metadata": {},
     "output_type": "execute_result"
    }
   ],
   "source": [
    "cursor.execute('''update Ages set Email=\"mara30@gmail.com\" where name=\"Mara\"''')"
   ]
  },
  {
   "cell_type": "code",
   "execution_count": 34,
   "id": "7872a949",
   "metadata": {},
   "outputs": [
    {
     "data": {
      "text/plain": [
       "<sqlite3.Cursor at 0x2561a9adbc0>"
      ]
     },
     "execution_count": 34,
     "metadata": {},
     "output_type": "execute_result"
    }
   ],
   "source": [
    "cursor.execute('''select * from Ages''')"
   ]
  },
  {
   "cell_type": "code",
   "execution_count": 35,
   "id": "f4983d37",
   "metadata": {},
   "outputs": [],
   "source": [
    "rows=cursor.fetchall()"
   ]
  },
  {
   "cell_type": "code",
   "execution_count": 36,
   "id": "65a8518f",
   "metadata": {},
   "outputs": [
    {
     "name": "stdout",
     "output_type": "stream",
     "text": [
      "('Mara', 30, 'mara30@gmail.com')\n",
      "('Fyn', 31, 'fyn31@gmail.com')\n",
      "('Neshawn', 17, None)\n"
     ]
    }
   ],
   "source": [
    "for row in rows:\n",
    "    print(row)"
   ]
  },
  {
   "cell_type": "code",
   "execution_count": null,
   "id": "44b042e7",
   "metadata": {},
   "outputs": [],
   "source": []
  }
 ],
 "metadata": {
  "kernelspec": {
   "display_name": "Python 3 (ipykernel)",
   "language": "python",
   "name": "python3"
  },
  "language_info": {
   "codemirror_mode": {
    "name": "ipython",
    "version": 3
   },
   "file_extension": ".py",
   "mimetype": "text/x-python",
   "name": "python",
   "nbconvert_exporter": "python",
   "pygments_lexer": "ipython3",
   "version": "3.11.5"
  }
 },
 "nbformat": 4,
 "nbformat_minor": 5
}
